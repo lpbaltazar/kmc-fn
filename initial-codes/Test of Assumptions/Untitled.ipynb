{
 "cells": [
  {
   "cell_type": "code",
   "execution_count": 1,
   "metadata": {},
   "outputs": [],
   "source": [
    "import random as rd\n",
    "import numpy as np\n",
    "import math as mt\n",
    "from matplotlib import pyplot as plt\n",
    "import pandas as pd"
   ]
  },
  {
   "cell_type": "markdown",
   "metadata": {},
   "source": [
    "## Functions"
   ]
  },
  {
   "cell_type": "markdown",
   "metadata": {},
   "source": [
    "### Lattice"
   ]
  },
  {
   "cell_type": "code",
   "execution_count": 2,
   "metadata": {},
   "outputs": [],
   "source": [
    "def count(lattice, length):\n",
    "    n_count = 0\n",
    "    g_count = 0\n",
    "    s_count = 0\n",
    "    t_count = 0\n",
    "    b_count = 0\n",
    "\n",
    "    for i in range(length):\n",
    "        for j in range(length):\n",
    "            if lattice[j][i] == 0:\n",
    "                s_count += 1\n",
    "            elif 1 >= lattice[j][i] >= 0.5:\n",
    "                t_count += 1\n",
    "            elif 0.5 > lattice[j][i] > 0:\n",
    "                g_count += 1\n",
    "            elif lattice[j][i] > 1:\n",
    "                n_count += 1\n",
    "            else:\n",
    "                b_count += 1  # negative numbers\n",
    "\n",
    "    m_sum = s_count + t_count + g_count + n_count + b_count\n",
    "    print(\"Source:\", s_count)\n",
    "    print(\"Tolerant: \", t_count)\n",
    "    print(\"Gullible: \", g_count)\n",
    "    # print(\"Neutral: \", n_count)\n",
    "    # print(\"b_count\", b_count)\n",
    "    print(\"TOTAL\", m_sum)\n",
    "    return\n",
    "\n",
    "\n",
    "def lattice_initialize(lattice, length, coverage):\n",
    "    counter = 0  # main counter\n",
    "    gullible_counter = 0\n",
    "    tolerant_counter = 0\n",
    "    maximum = length ** 2 - 1\n",
    "\n",
    "    max_gullible = maximum * coverage\n",
    "    max_tolerant = maximum - 1 - max_gullible\n",
    "\n",
    "    while counter < maximum:\n",
    "        # guess random position\n",
    "        xs = rd.choice(range(length))\n",
    "        ys = rd.choice(range(length))\n",
    "        v = rd.triangular()\n",
    "        # print(v, counter, tolerant_counter, gullible_counter, xs, ys)\n",
    "\n",
    "        if lattice[ys][xs] == 10000:\n",
    "            if v > 0.5 and tolerant_counter < max_tolerant:\n",
    "                lattice[ys][xs] = v\n",
    "                tolerant_counter += 1\n",
    "                counter += 1\n",
    "            elif v < 0.5 and gullible_counter < max_gullible:\n",
    "                lattice[ys][xs] = v\n",
    "                gullible_counter += 1\n",
    "                counter += 1\n",
    "\n",
    "    count(lattice, length)\n",
    "    np.savetxt(\"Initial Population \" + str(coverage) + \".csv\", lattice, delimiter = \",\")  # Save init Population to csv\n",
    "    return lattice\n",
    "\n",
    "\n",
    "def gullible_counter(lattice, length):\n",
    "    counter = 0\n",
    "    for i in range(length):\n",
    "        for j in range(length):\n",
    "            if lattice[j][i] < 0.5 and lattice[j][i] != 0:\n",
    "                counter += 1\n",
    "    return counter\n",
    "\n",
    "\n",
    "def count_source(lattice, length):\n",
    "    counter = 0\n",
    "    for i in range(length):\n",
    "        for j in range(length):\n",
    "            if lattice[j][i] == 0:\n",
    "                counter += 1\n",
    "    return counter\n",
    "\n",
    "\n",
    "def tolerant_counter(lattice, length):\n",
    "    counter = 0\n",
    "    for i in range(length):\n",
    "        for j in range(length):\n",
    "            if 1 < lattice[j][i] <= 0.5:\n",
    "                counter += 1\n",
    "    return counter\n"
   ]
  },
  {
   "cell_type": "code",
   "execution_count": null,
   "metadata": {},
   "outputs": [],
   "source": []
  }
 ],
 "metadata": {
  "kernelspec": {
   "display_name": "Python 3",
   "language": "python",
   "name": "python3"
  },
  "language_info": {
   "codemirror_mode": {
    "name": "ipython",
    "version": 3
   },
   "file_extension": ".py",
   "mimetype": "text/x-python",
   "name": "python",
   "nbconvert_exporter": "python",
   "pygments_lexer": "ipython3",
   "version": "3.7.0"
  }
 },
 "nbformat": 4,
 "nbformat_minor": 2
}
