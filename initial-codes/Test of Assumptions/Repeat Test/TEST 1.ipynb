{
 "cells": [
  {
   "cell_type": "code",
   "execution_count": 1,
   "metadata": {
    "ExecuteTime": {
     "end_time": "2018-10-12T06:17:37.148760Z",
     "start_time": "2018-10-12T06:17:36.760628Z"
    }
   },
   "outputs": [],
   "source": [
    "import random as rd\n",
    "import numpy as np\n",
    "import math as mt\n",
    "from matplotlib import pyplot as plt\n",
    "import pandas as pdb"
   ]
  },
  {
   "cell_type": "markdown",
   "metadata": {
    "heading_collapsed": true
   },
   "source": [
    "## Functions"
   ]
  },
  {
   "cell_type": "markdown",
   "metadata": {
    "hidden": true
   },
   "source": [
    "### Lattice"
   ]
  },
  {
   "cell_type": "code",
   "execution_count": 2,
   "metadata": {
    "ExecuteTime": {
     "end_time": "2018-10-12T06:17:37.157683Z",
     "start_time": "2018-10-12T06:17:37.150666Z"
    },
    "hidden": true
   },
   "outputs": [],
   "source": [
    "def count(lattice, length):\n",
    "    n_count = 0\n",
    "    g_count = 0\n",
    "    s_count = 0\n",
    "    t_count = 0\n",
    "    b_count = 0\n",
    "\n",
    "    for i in range(length):\n",
    "        for j in range(length):\n",
    "            if lattice[j][i] == 0:\n",
    "                s_count += 1\n",
    "            elif 1 >= lattice[j][i] >= 0.5:\n",
    "                t_count += 1\n",
    "            elif 0.5 > lattice[j][i] > 0:\n",
    "                g_count += 1\n",
    "            elif lattice[j][i] > 1:\n",
    "                n_count += 1\n",
    "            else:\n",
    "                b_count += 1  # negative numbers\n",
    "\n",
    "    m_sum = s_count + t_count + g_count + n_count + b_count\n",
    "    print(\"Source:\", s_count)\n",
    "    print(\"Tolerant: \", t_count)\n",
    "    print(\"Gullible: \", g_count)\n",
    "    # print(\"Neutral: \", n_count)\n",
    "    # print(\"b_count\", b_count)\n",
    "    print(\"TOTAL\", m_sum)\n",
    "    return\n",
    "\n",
    "\n",
    "def lattice_initialize(lattice, length, coverage):\n",
    "    counter = 0  # main counter\n",
    "    gullible_counter = 0\n",
    "    tolerant_counter = 0\n",
    "    maximum = length ** 2 - 1\n",
    "\n",
    "    max_gullible = maximum * coverage\n",
    "    max_tolerant = maximum - 1 - max_gullible\n",
    "\n",
    "    while counter < maximum:\n",
    "        # guess random position\n",
    "        xs = rd.choice(range(length))\n",
    "        ys = rd.choice(range(length))\n",
    "        v = rd.triangular()\n",
    "        # print(v, counter, tolerant_counter, gullible_counter, xs, ys)\n",
    "\n",
    "        if lattice[ys][xs] == 10000:\n",
    "            if v > 0.5 and tolerant_counter < max_tolerant:\n",
    "                lattice[ys][xs] = v\n",
    "                tolerant_counter += 1\n",
    "                counter += 1\n",
    "            elif v < 0.5 and gullible_counter < max_gullible:\n",
    "                lattice[ys][xs] = v\n",
    "                gullible_counter += 1\n",
    "                counter += 1\n",
    "\n",
    "    count(lattice, length)\n",
    "    np.savetxt(\"Initial Population \" + str(coverage) + \".csv\", lattice, delimiter = \",\")  # Save init Population to csv\n",
    "    return lattice\n",
    "\n",
    "\n",
    "def gullible_counter(lattice, length):\n",
    "    counter = 0\n",
    "    for i in range(length):\n",
    "        for j in range(length):\n",
    "            if lattice[j][i] < 0.5 and lattice[j][i] != 0:\n",
    "                counter += 1\n",
    "    return counter\n",
    "\n",
    "\n",
    "def count_source(lattice, length):\n",
    "    counter = 0\n",
    "    for i in range(length):\n",
    "        for j in range(length):\n",
    "            if lattice[j][i] == 0:\n",
    "                counter += 1\n",
    "    return counter\n",
    "\n",
    "\n",
    "def tolerant_counter(lattice, length):\n",
    "    counter = 0\n",
    "    for i in range(length):\n",
    "        for j in range(length):\n",
    "            if 0.5 <= lattice[j][i] < 1:\n",
    "                counter += 1\n",
    "    return counter\n"
   ]
  },
  {
   "cell_type": "markdown",
   "metadata": {
    "heading_collapsed": true,
    "hidden": true
   },
   "source": [
    "### Lattice Update"
   ]
  },
  {
   "cell_type": "code",
   "execution_count": 3,
   "metadata": {
    "ExecuteTime": {
     "end_time": "2018-10-12T06:17:37.315883Z",
     "start_time": "2018-10-12T06:17:37.158686Z"
    },
    "hidden": true
   },
   "outputs": [],
   "source": [
    "def main_equation(value, x, y, i, j, multiplier):\n",
    "    alpha = rd.triangular()\n",
    "    out = value + multiplier * (-alpha * (1/(mt.sqrt(((x - i)**2 + (y - j)**2)))))\n",
    "    return out\n",
    "\n",
    "\n",
    "def update_lattice_equation(lattice, length, initial_n, time, decay_constant):\n",
    "    for i in range(length):\n",
    "        for j in range(length):\n",
    "            if lattice[j][i] == 0:\n",
    "\n",
    "                multi = initial_n * (mt.exp(-time / decay_constant))\n",
    "                \n",
    "                try:  # below the source\n",
    "                    lattice[j+1][i] = main_equation(lattice[j + 1][i], i, j, i, j+1, multi)\n",
    "                    # print(\"1\")\n",
    "                except IndexError:\n",
    "                    pass\n",
    "\n",
    "                try:  # above the source\n",
    "                    lattice[j-1][i] = main_equation(lattice[j + 1][i], i, j, i, j-1, multi)\n",
    "                    # print(\"2\")\n",
    "                except IndexError:\n",
    "                    pass\n",
    "\n",
    "                try:  # right to the source\n",
    "                    lattice[j][i+1] = main_equation(lattice[j + 1][i], i, j, i + 1, j, multi)\n",
    "                    # print(\"3\")\n",
    "                except IndexError:\n",
    "                    pass\n",
    "\n",
    "                try:  # left to the source\n",
    "                    lattice[j][i-1] = main_equation(lattice[j + 1][i], i, j, i - 1, j, multi)\n",
    "                    # print(\"4\")\n",
    "                except IndexError:\n",
    "                    pass\n",
    "\n",
    "                try:  # diagonal down and right\n",
    "                    lattice[j+1][i + 1] = main_equation(lattice[j + 1][i], i, j, i+1, j+1, multi)\n",
    "                    # print(5)\n",
    "                except IndexError:\n",
    "                    pass\n",
    "\n",
    "                try:  # diagonal down and left\n",
    "                    lattice[j+1][i-1] = main_equation(lattice[j + 1][i], i, j, i-1, j+1, multi)\n",
    "                    # print(\"6\")\n",
    "                except IndexError:\n",
    "                    pass\n",
    "\n",
    "                try:  # diagonal up and right\n",
    "                    lattice[j-1][i+1] = main_equation(lattice[j + 1][i], i, j, i+1, j-1, multi)\n",
    "                    # print(\"7\")\n",
    "                except IndexError:\n",
    "                    pass\n",
    "\n",
    "                try:  # diagonal up and left\n",
    "                    lattice[j-1][i-1] = main_equation(lattice[j + 1][i], i, j, i-1, j-1, multi)\n",
    "                    # print(\"9\")\n",
    "                except IndexError:\n",
    "                    pass\n",
    "\n",
    "    for i in range(length):\n",
    "        for j in range(length):\n",
    "            if lattice[j][i] < 0:\n",
    "                lattice[j][i] = 0\n",
    "\n",
    "    return lattice\n",
    "\n",
    "\n",
    "def update_matrix_equation(lattice, decay_constant, initial_n, length, time, x0, y0):  # Equation Based Approach\n",
    "    multiplier = initial_n * (mt.exp(-time / decay_constant))\n",
    "\n",
    "    for i in range(length):\n",
    "        for j in range(length):\n",
    "            if i != x0 and j != y0:\n",
    "                alpha = rd.triangular()\n",
    "                lattice[j][i] = lattice[j][i] + multiplier * (-alpha * 1 / (mt.sqrt(((x0 - i) ** 2 + (y0 - j) ** 2))))\n",
    "\n",
    "    for i in range(length):\n",
    "        for j in range(length):\n",
    "            if lattice[j][i] < 0:\n",
    "                lattice[j][i] = 0\n",
    "\n",
    "    return lattice\n"
   ]
  },
  {
   "cell_type": "markdown",
   "metadata": {},
   "source": [
    "## Program"
   ]
  },
  {
   "cell_type": "code",
   "execution_count": 4,
   "metadata": {
    "ExecuteTime": {
     "end_time": "2018-10-12T06:17:37.380927Z",
     "start_time": "2018-10-12T06:17:37.316897Z"
    }
   },
   "outputs": [],
   "source": [
    "decay_const: int = 1\n",
    "n_0 = 1\n",
    "repeat = 10"
   ]
  },
  {
   "cell_type": "code",
   "execution_count": 5,
   "metadata": {
    "ExecuteTime": {
     "end_time": "2018-10-12T06:22:22.942853Z",
     "start_time": "2018-10-12T06:17:37.381930Z"
    },
    "scrolled": true
   },
   "outputs": [
    {
     "name": "stdout",
     "output_type": "stream",
     "text": [
      "Source: 1\n",
      "Tolerant:  4999\n",
      "Gullible:  5000\n",
      "TOTAL 10000\n",
      "Iteration Number:  0\n",
      "END-----------------------------------------END\n",
      "Source: 1\n",
      "Tolerant:  4999\n",
      "Gullible:  5000\n",
      "TOTAL 10000\n",
      "Iteration Number:  1\n",
      "END-----------------------------------------END\n",
      "Source: 1\n",
      "Tolerant:  4999\n",
      "Gullible:  5000\n",
      "TOTAL 10000\n",
      "Iteration Number:  2\n",
      "END-----------------------------------------END\n",
      "Source: 1\n",
      "Tolerant:  4999\n",
      "Gullible:  5000\n",
      "TOTAL 10000\n",
      "Iteration Number:  3\n",
      "END-----------------------------------------END\n",
      "Source: 1\n",
      "Tolerant:  4999\n",
      "Gullible:  5000\n",
      "TOTAL 10000\n",
      "Iteration Number:  4\n",
      "END-----------------------------------------END\n",
      "Source: 1\n",
      "Tolerant:  4999\n",
      "Gullible:  5000\n",
      "TOTAL 10000\n",
      "Iteration Number:  5\n",
      "END-----------------------------------------END\n",
      "Source: 1\n",
      "Tolerant:  4999\n",
      "Gullible:  5000\n",
      "TOTAL 10000\n",
      "Iteration Number:  6\n",
      "END-----------------------------------------END\n",
      "Source: 1\n",
      "Tolerant:  4999\n",
      "Gullible:  5000\n",
      "TOTAL 10000\n",
      "Iteration Number:  7\n",
      "END-----------------------------------------END\n",
      "Source: 1\n",
      "Tolerant:  4999\n",
      "Gullible:  5000\n",
      "TOTAL 10000\n",
      "Iteration Number:  8\n",
      "END-----------------------------------------END\n",
      "Source: 1\n",
      "Tolerant:  4999\n",
      "Gullible:  5000\n",
      "TOTAL 10000\n",
      "Iteration Number:  9\n",
      "END-----------------------------------------END\n"
     ]
    }
   ],
   "source": [
    "main_source = {}\n",
    "main_gullible = {}\n",
    "main_tolerant = {}\n",
    "main_step = []\n",
    "\n",
    "for i in range(repeat):\n",
    "    source50 = []\n",
    "    gullible50 = []\n",
    "    tolerant50 = []\n",
    "    \n",
    "    check = True\n",
    "    step = 0\n",
    "    n = 100    # length of the matrix\n",
    "    N = np.full(shape=(n, n), fill_value=10000, dtype=np.float32)  # creates matrix will all values having 10000\n",
    "    tm = 0  # time\n",
    "\n",
    "    source_counter = 0\n",
    "    max_source = (n**2) * 0.9  # stopping criteria\n",
    "\n",
    "    xs = 50\n",
    "    ys = 50\n",
    "\n",
    "    # xs = rd.choice(range(n))  # initial x and y for the source, (value == 0)\n",
    "    # ys = rd.choice(range(n))\n",
    "\n",
    "    N[ys][xs] = 0\n",
    "    \n",
    "    lattice_initialize(N, n, 0.50)\n",
    "\n",
    "    while check == True:\n",
    "        update_lattice_equation(N, n, n_0, 1, decay_const)\n",
    "        source50.append(count_source(N, n))\n",
    "        tolerant50.append(tolerant_counter(N, n))\n",
    "        gullible50.append(gullible_counter(N, n))\n",
    "        tm += 1\n",
    "\n",
    "        if tm > 200:\n",
    "            if source50[tm-1] == source50[tm-2] and source50[tm-2] == source50[tm-3] and source50[tm-3] == source50[tm-4] and source50[tm-4] == source50[tm-5] and source50[tm-5] == source50[tm-6]:\n",
    "                check = False\n",
    "\n",
    "    np.savetxt(\"Final_Population_50_\" + str(i) + \".csv\", N, delimiter = \",\")\n",
    "    \n",
    "    main_source[str(i)] = source50\n",
    "    main_gullible[str(i)] = gullible50\n",
    "    main_tolerant[str(i)] = tolerant50\n",
    "    \n",
    "    print('Iteration Number: ', i)\n",
    "    print('END-----------------------------------------END')"
   ]
  },
  {
   "cell_type": "code",
   "execution_count": 9,
   "metadata": {
    "ExecuteTime": {
     "end_time": "2018-10-12T06:22:25.719825Z",
     "start_time": "2018-10-12T06:22:25.640601Z"
    }
   },
   "outputs": [
    {
     "data": {
      "image/png": "[encoded data removed]",
      "text/plain": [
       "<Figure size 432x288 with 1 Axes>"
      ]
     },
     "metadata": {
      "needs_background": "light"
     },
     "output_type": "display_data"
    }
   ],
   "source": [
    "for i in range(repeat):\n",
    "    plt.plot(range(len(main_source[str(i)])), main_source[str(i)], 'b.-')\n",
    "plt.ylabel('Number of Sources')\n",
    "plt.xlabel('Step Number')\n",
    "plt.title('Number of Sources vs Step Number at 50% coverage')\n",
    "#plt.savefig('50_source.png', bbox_inches='tight')\n",
    "plt.show()"
   ]
  },
  {
   "cell_type": "code",
   "execution_count": 10,
   "metadata": {
    "ExecuteTime": {
     "end_time": "2018-10-12T06:22:25.815078Z",
     "start_time": "2018-10-12T06:22:25.720808Z"
    }
   },
   "outputs": [
    {
     "data": {
      "image/png": "[encoded data removed]",
      "text/plain": [
       "<Figure size 432x288 with 1 Axes>"
      ]
     },
     "metadata": {
      "needs_background": "light"
     },
     "output_type": "display_data"
    }
   ],
   "source": [
    "for i in range(repeat):\n",
    "    plt.plot(range(len(main_gullible[str(i)])), main_gullible[str(i)], 'b.-')\n",
    "plt.ylabel('Number of Gullible')\n",
    "plt.xlabel('Step Number')\n",
    "plt.title('Number of Gullible vs Step Number at 50% coverage')\n",
    "#plt.savefig('50_Gullible.png', bbox_inches='tight')\n",
    "plt.show()"
   ]
  },
  {
   "cell_type": "code",
   "execution_count": 11,
   "metadata": {
    "ExecuteTime": {
     "end_time": "2018-10-12T06:22:25.920359Z",
     "start_time": "2018-10-12T06:22:25.816065Z"
    },
    "scrolled": true
   },
   "outputs": [
    {
     "data": {
      "image/png": "[encoded data removed]",
      "text/plain": [
       "<Figure size 432x288 with 1 Axes>"
      ]
     },
     "metadata": {
      "needs_background": "light"
     },
     "output_type": "display_data"
    }
   ],
   "source": [
    "for i in range(repeat):\n",
    "    plt.plot(range(len(main_tolerant[str(i)])), main_tolerant[str(i)], 'b.-')\n",
    "plt.ylabel('Number of Tolerant')\n",
    "plt.xlabel('Step Number')\n",
    "plt.title('Number of Tolerant vs Step Number at 50% coverage')\n",
    "#plt.savefig('50_tolerant.png', bbox_inches='tight')\n",
    "plt.show()"
   ]
  },
  {
   "cell_type": "code",
   "execution_count": null,
   "metadata": {},
   "outputs": [],
   "source": []
  }
 ],
 "metadata": {
  "kernelspec": {
   "display_name": "Python 3",
   "language": "python",
   "name": "python3"
  },
  "language_info": {
   "codemirror_mode": {
    "name": "ipython",
    "version": 3
   },
   "file_extension": ".py",
   "mimetype": "text/x-python",
   "name": "python",
   "nbconvert_exporter": "python",
   "pygments_lexer": "ipython3",
   "version": "3.7.0"
  }
 },
 "nbformat": 4,
 "nbformat_minor": 2
}
