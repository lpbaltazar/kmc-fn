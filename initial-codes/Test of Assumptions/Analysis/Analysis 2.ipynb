{
 "cells": [
  {
   "cell_type": "code",
   "execution_count": null,
   "metadata": {
    "ExecuteTime": {
     "end_time": "2018-10-18T07:07:29.912774Z",
     "start_time": "2018-10-18T07:07:29.239714Z"
    }
   },
   "outputs": [],
   "source": [
    "import random as rd\n",
    "import numpy as np\n",
    "import math as mt\n",
    "from matplotlib import pyplot as plt\n",
    "import pandas as pd\n",
    "import seaborn as sns"
   ]
  },
  {
   "cell_type": "code",
   "execution_count": 2,
   "metadata": {
    "ExecuteTime": {
     "end_time": "2018-10-18T07:07:37.059306Z",
     "start_time": "2018-10-18T07:07:37.053310Z"
    }
   },
   "outputs": [],
   "source": [
    "def main_equation(value, x, y, i, j, multiplier):\n",
    "    alpha = rd.triangular()\n",
    "    out = value + multiplier * (-alpha * (1/(mt.sqrt(((x - i)**2 + (y - j)**2)))))\n",
    "    return out\n",
    "\n",
    "\n",
    "def update_lattice_equation(lattice, length, initial_n, time, decay_constant):\n",
    "    multi = initial_n * (mt.exp(-time / decay_constant))\n",
    "    \n",
    "    for i in range(length):\n",
    "        for j in range(length):\n",
    "            if lattice[j][i] == 0:\n",
    "\n",
    "                \n",
    "                lattice[j][i+1] = main_equation(lattice[j][i+1], i, j, i + 1, j, multi)\n",
    "                    # print(\"3\")\n",
    "                \n",
    "                \n",
    "                lattice[j+1][i + 1] = main_equation( lattice[j+1][i+1], i, j, i+1, j+1, multi)\n",
    "\n",
    "\n",
    "                lattice[j-1][i+1] = main_equation(lattice[j-1][i+1], i, j, i+1, j-1, multi)\n",
    "\n",
    "    for i in range(length):\n",
    "        for j in range(length):\n",
    "            if lattice[j][i] < 0:\n",
    "                lattice[j][i] = 0\n",
    "\n",
    "    return lattice\n",
    "\n",
    "\n",
    "def update_matrix_equation(lattice, decay_constant, initial_n, length, time, x0, y0):  # Equation Based Approach\n",
    "    multiplier = initial_n * (mt.exp(-time / decay_constant))\n",
    "\n",
    "    for i in range(length):\n",
    "        for j in range(length):\n",
    "            if i != x0 and j != y0:\n",
    "                alpha = rd.triangular()\n",
    "                lattice[j][i] = lattice[j][i] + multiplier * (-alpha * 1 / (mt.sqrt(((x0 - i) ** 2 + (y0 - j) ** 2))))\n",
    "\n",
    "    for i in range(length):\n",
    "        for j in range(length):\n",
    "            if lattice[j][i] < 0:\n",
    "                lattice[j][i] = 0\n",
    "\n",
    "    return lattice\n"
   ]
  },
  {
   "cell_type": "code",
   "execution_count": 3,
   "metadata": {
    "ExecuteTime": {
     "end_time": "2018-10-18T07:08:00.281106Z",
     "start_time": "2018-10-18T07:08:00.274089Z"
    }
   },
   "outputs": [],
   "source": [
    "def count(lattice, length):\n",
    "    n_count = 0\n",
    "    g_count = 0\n",
    "    s_count = 0\n",
    "    t_count = 0\n",
    "    b_count = 0\n",
    "\n",
    "    for i in range(length):\n",
    "        for j in range(length):\n",
    "            if lattice[j][i] == 0:\n",
    "                s_count += 1\n",
    "            elif 1 >= lattice[j][i] >= 0.5:\n",
    "                t_count += 1\n",
    "            elif 0.5 > lattice[j][i] > 0:\n",
    "                g_count += 1\n",
    "            elif lattice[j][i] > 1:\n",
    "                n_count += 1\n",
    "            else:\n",
    "                b_count += 1  # negative numbers\n",
    "\n",
    "    m_sum = s_count + t_count + g_count + n_count + b_count\n",
    "    print(\"Source:\", s_count)\n",
    "    print(\"Tolerant: \", t_count)\n",
    "    print(\"Gullible: \", g_count)\n",
    "    # print(\"Neutral: \", n_count)\n",
    "    # print(\"b_count\", b_count)\n",
    "    print(\"TOTAL\", m_sum)\n",
    "    return\n",
    "\n",
    "\n",
    "def lattice_initialize(lattice, length, coverage):\n",
    "    counter = 0  # main counter\n",
    "    gullible_counter = 0\n",
    "    tolerant_counter = 0\n",
    "    maximum = length ** 2 - 1\n",
    "\n",
    "    max_gullible = maximum * coverage\n",
    "    max_tolerant = maximum - 1 - max_gullible\n",
    "\n",
    "    while counter < maximum:\n",
    "        # guess random position\n",
    "        xs = rd.choice(range(length))\n",
    "        ys = rd.choice(range(length))\n",
    "        v = rd.triangular()\n",
    "        # print(v, counter, tolerant_counter, gullible_counter, xs, ys)\n",
    "\n",
    "        if lattice[ys][xs] == 10000:\n",
    "            if v > 0.5 and tolerant_counter < max_tolerant:\n",
    "                lattice[ys][xs] = v\n",
    "                tolerant_counter += 1\n",
    "                counter += 1\n",
    "            elif v < 0.5 and gullible_counter < max_gullible:\n",
    "                lattice[ys][xs] = v\n",
    "                gullible_counter += 1\n",
    "                counter += 1\n",
    "\n",
    "    count(lattice, length)\n",
    "    np.savetxt(\"Initial Population \" + str(coverage) + \".csv\", lattice, delimiter = \",\")  # Save init Population to csv\n",
    "    return lattice\n",
    "\n",
    "\n",
    "def gullible_counter(lattice, length):\n",
    "    counter = 0\n",
    "    for i in range(length):\n",
    "        for j in range(length):\n",
    "            if lattice[j][i] < 0.5 and lattice[j][i] != 0:\n",
    "                counter += 1\n",
    "    return counter\n",
    "\n",
    "\n",
    "def count_source(lattice, length):\n",
    "    counter = 0\n",
    "    for i in range(length):\n",
    "        for j in range(length):\n",
    "            if lattice[j][i] == 0:\n",
    "                counter += 1\n",
    "    return counter\n",
    "\n",
    "\n",
    "def tolerant_counter(lattice, length):\n",
    "    counter = 0\n",
    "    for i in range(length):\n",
    "        for j in range(length):\n",
    "            if 0.5 <= lattice[j][i] <= 1 :\n",
    "                counter += 1\n",
    "    return counter\n"
   ]
  },
  {
   "cell_type": "code",
   "execution_count": 4,
   "metadata": {
    "ExecuteTime": {
     "end_time": "2018-10-18T07:08:10.272527Z",
     "start_time": "2018-10-18T07:08:10.270494Z"
    }
   },
   "outputs": [],
   "source": [
    "decay_const: int = 1\n",
    "n_0 = 1"
   ]
  },
  {
   "cell_type": "code",
   "execution_count": 2,
   "metadata": {
    "ExecuteTime": {
     "end_time": "2018-10-18T07:08:46.549636Z",
     "start_time": "2018-10-18T07:08:17.055001Z"
    }
   },
   "outputs": [
    {
     "ename": "NameError",
     "evalue": "name 'np' is not defined",
     "traceback": [
      "\u001b[1;31m---------------------------------------------------------------------------\u001b[0m",
      "\u001b[1;31mNameError\u001b[0m                                 Traceback (most recent call last)",
      "\u001b[1;32m<ipython-input-2-fc90fef6a16e>\u001b[0m in \u001b[0;36m<module>\u001b[1;34m()\u001b[0m\n\u001b[0;32m      5\u001b[0m \u001b[0mstep\u001b[0m \u001b[1;33m=\u001b[0m \u001b[1;36m0\u001b[0m\u001b[1;33m\u001b[0m\u001b[0m\n\u001b[0;32m      6\u001b[0m \u001b[0mn\u001b[0m \u001b[1;33m=\u001b[0m \u001b[1;36m100\u001b[0m    \u001b[1;31m# length of the matrix\u001b[0m\u001b[1;33m\u001b[0m\u001b[0m\n\u001b[1;32m----> 7\u001b[1;33m \u001b[0mN\u001b[0m \u001b[1;33m=\u001b[0m \u001b[0mnp\u001b[0m\u001b[1;33m.\u001b[0m\u001b[0mfull\u001b[0m\u001b[1;33m(\u001b[0m\u001b[0mshape\u001b[0m\u001b[1;33m=\u001b[0m\u001b[1;33m(\u001b[0m\u001b[0mn\u001b[0m\u001b[1;33m,\u001b[0m \u001b[0mn\u001b[0m\u001b[1;33m)\u001b[0m\u001b[1;33m,\u001b[0m \u001b[0mfill_value\u001b[0m\u001b[1;33m=\u001b[0m\u001b[1;36m10000\u001b[0m\u001b[1;33m,\u001b[0m \u001b[0mdtype\u001b[0m\u001b[1;33m=\u001b[0m\u001b[0mnp\u001b[0m\u001b[1;33m.\u001b[0m\u001b[0mfloat32\u001b[0m\u001b[1;33m)\u001b[0m  \u001b[1;31m# creates matrix will all values having 10000\u001b[0m\u001b[1;33m\u001b[0m\u001b[0m\n\u001b[0m\u001b[0;32m      8\u001b[0m \u001b[0mtm\u001b[0m \u001b[1;33m=\u001b[0m \u001b[1;36m0\u001b[0m  \u001b[1;31m# time\u001b[0m\u001b[1;33m\u001b[0m\u001b[0m\n\u001b[0;32m      9\u001b[0m \u001b[1;33m\u001b[0m\u001b[0m\n",
      "\u001b[1;31mNameError\u001b[0m: name 'np' is not defined"
     ],
     "output_type": "error"
    }
   ],
   "source": [
    "source50 = []\n",
    "tolerant50 = []\n",
    "gullible50 = []\n",
    "check = True\n",
    "step = 0\n",
    "n = 100    # length of the matrix\n",
    "N = np.full(shape=(n, n), fill_value=10000, dtype=np.float32)  # creates matrix will all values having 10000\n",
    "tm = 0  # time\n",
    "\n",
    "source_counter = 0\n",
    "max_source = (n**2) * 0.9  # stopping criteria\n",
    "\n",
    "xs = 50\n",
    "ys = 50\n",
    "\n",
    "# xs = rd.choice(range(n))  # initial x and y for the source, (value == 0)\n",
    "# ys = rd.choice(range(n))\n",
    "\n",
    "N[ys][xs] = 0\n",
    "print(xs, ys)\n",
    "\n",
    "print(\"------------------------------A\")\n",
    "lattice_initialize(N, n, 0.50)  # Initializes the population to have 1/3 of each type of persons\n",
    "print(\"------------------------------B\")\n",
    "\n",
    "count(N, n)\n",
    "\n",
    "np.savetxt('50%_' + str(tm) + '.csv', N, delimiter=',')\n",
    "while check == True:\n",
    "    tm += 1\n",
    "    print(\"-----------------------------------BEFORE\")\n",
    "    update_lattice_equation(N, n, n_0, 1, decay_const)\n",
    "    print(\"-----------------------------------AFTER\")\n",
    "    print(\"Step: \", tm)\n",
    "    count(N, n)\n",
    "    print(\"--------------------\")\n",
    "    source50.append(count_source(N, n))\n",
    "    tolerant50.append(tolerant_counter(N, n))\n",
    "    gullible50.append(gullible_counter(N, n))\n",
    "    np.savetxt('50%_' + str(tm) + '.csv', N, delimiter=',')\n",
    "    \n",
    "    \n",
    "    if tm > 200:\n",
    "        if source50[tm-1] == source50[tm-2] and source50[tm-2] == source50[tm-3] and source50[tm-3] == source50[tm-4] and source50[tm-4] == source50[tm-5] and source50[tm-5] == source50[tm-6]:\n",
    "            check = False\n",
    "    \n",
    "np.savetxt(\"Final Population.csv\", N, delimiter = \",\")\n",
    "print(\"END----------------------------\")\n",
    "print()\n",
    "count(N, n)\n",
    "print()\n",
    "print(\"Step END: \", tm)"
   ]
  },
  {
   "cell_type": "code",
   "execution_count": 1,
   "metadata": {},
   "outputs": [
    {
     "name": "stdout",
     "output_type": "stream",
     "text": [
      "hello\n"
     ]
    }
   ],
   "source": [
    "print(\"hello\")"
   ]
  },
  {
   "cell_type": "code",
   "execution_count": null,
   "metadata": {},
   "outputs": [],
   "source": []
  }
 ],
 "metadata": {
  "kernelspec": {
   "display_name": "Python 3",
   "language": "python",
   "name": "python3"
  },
  "language_info": {
   "codemirror_mode": {
    "name": "ipython",
    "version": 3
   },
   "file_extension": ".py",
   "mimetype": "text/x-python",
   "name": "python",
   "nbconvert_exporter": "python",
   "pygments_lexer": "ipython3",
   "version": "3.7.0"
  }
 },
 "nbformat": 4,
 "nbformat_minor": 2
}
